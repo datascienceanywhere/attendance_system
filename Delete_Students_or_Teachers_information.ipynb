{
 "cells": [
  {
   "cell_type": "code",
   "execution_count": 9,
   "id": "4984c062-fd96-4af8-946f-0eff6da4986f",
   "metadata": {},
   "outputs": [],
   "source": [
    "import pandas as pd\n",
    "import numpy as np\n",
    "import redis"
   ]
  },
  {
   "cell_type": "code",
   "execution_count": 10,
   "id": "27f18bcf-9ab6-46d9-afd8-6360a78e5609",
   "metadata": {},
   "outputs": [],
   "source": [
    "# Connect to Redis Client\n",
    "hostname = 'redis-10979.c325.us-east-1-4.ec2.cloud.redislabs.com'\n",
    "portnumber = 10979\n",
    "password = 'GWVgMSfgj1LpLCevrcAXKaZiYiFwNsls'\n",
    "\n",
    "r = redis.StrictRedis(host=hostname,\n",
    "                      port=portnumber,\n",
    "                      password=password)"
   ]
  },
  {
   "cell_type": "code",
   "execution_count": 11,
   "id": "99cd8989-98c2-44f5-a420-4bfe9a71d161",
   "metadata": {},
   "outputs": [
    {
     "data": {
      "text/plain": [
       "True"
      ]
     },
     "execution_count": 11,
     "metadata": {},
     "output_type": "execute_result"
    }
   ],
   "source": [
    "r.ping()"
   ]
  },
  {
   "cell_type": "code",
   "execution_count": 14,
   "id": "c8575c2f-a8b4-4ee4-96df-75b73580a2d3",
   "metadata": {},
   "outputs": [
    {
     "data": {
      "text/plain": [
       "b'Scarlett Johansson@Student'    b'K\\xe9C>\\x8d\\x14\\xfa\\xbe\\x8eY\\xd8\\xbf\\xd3\\x81...\n",
       "b'Chris Evans@Student'           b')]8?\\x05\\xf5\\xbb\\xbf83G\\xbf\\xcc\\xe4\\xba\\xbf\\...\n",
       "b'Morgan Freeman@Teacher'        b'\\xee\\x7f\\xf8>\\x87\\x87\\x1e\\xbfja\\xd0\\xbe\\xbe\\...\n",
       "b'Angelina Jolie@Student'        b'3f\\xdd>\\xae\\x94\\x89?\\xeb\\xb5\\x03\\xbeN\\xa9\\xe...\n",
       "b'Barack Obama@Teacher'          b'5\\xd6r?\\xa5\\xf3\\x0e\\xbf]1\\xc2=\\xde\\xcb\\xa3\\x...\n",
       "b'sudheer@Teacher'               b'\\xa5J\\xdf>\\x18\\x04\\x96?_^\\xaa\\xbe\\xec\\xeaO?\\...\n",
       "dtype: object"
      ]
     },
     "execution_count": 14,
     "metadata": {},
     "output_type": "execute_result"
    }
   ],
   "source": [
    "name = 'academy:register'\n",
    "register_series = pd.Series(r.hgetall(name))\n",
    "register_series"
   ]
  },
  {
   "cell_type": "code",
   "execution_count": 15,
   "id": "0c523435-aaf7-46d1-a837-c64fa53fd1e8",
   "metadata": {},
   "outputs": [
    {
     "data": {
      "text/plain": [
       "1"
      ]
     },
     "execution_count": 15,
     "metadata": {},
     "output_type": "execute_result"
    }
   ],
   "source": [
    "# delete keys/ fields\n",
    "key_to_del = 'sudheer@Teacher'\n",
    "r.hdel(name, key_to_del)"
   ]
  },
  {
   "cell_type": "code",
   "execution_count": 16,
   "id": "70a503ae-172d-44ba-92c8-3dfd543d8c3c",
   "metadata": {},
   "outputs": [
    {
     "data": {
      "text/plain": [
       "b'Scarlett Johansson@Student'    b'K\\xe9C>\\x8d\\x14\\xfa\\xbe\\x8eY\\xd8\\xbf\\xd3\\x81...\n",
       "b'Chris Evans@Student'           b')]8?\\x05\\xf5\\xbb\\xbf83G\\xbf\\xcc\\xe4\\xba\\xbf\\...\n",
       "b'Morgan Freeman@Teacher'        b'\\xee\\x7f\\xf8>\\x87\\x87\\x1e\\xbfja\\xd0\\xbe\\xbe\\...\n",
       "b'Angelina Jolie@Student'        b'3f\\xdd>\\xae\\x94\\x89?\\xeb\\xb5\\x03\\xbeN\\xa9\\xe...\n",
       "b'Barack Obama@Teacher'          b'5\\xd6r?\\xa5\\xf3\\x0e\\xbf]1\\xc2=\\xde\\xcb\\xa3\\x...\n",
       "dtype: object"
      ]
     },
     "execution_count": 16,
     "metadata": {},
     "output_type": "execute_result"
    }
   ],
   "source": [
    "register_series = pd.Series(r.hgetall(name))\n",
    "register_series"
   ]
  },
  {
   "cell_type": "code",
   "execution_count": 17,
   "id": "d32ec20d-7199-4936-9e89-08c26bfabd71",
   "metadata": {},
   "outputs": [
    {
     "data": {
      "text/plain": [
       "0"
      ]
     },
     "execution_count": 17,
     "metadata": {},
     "output_type": "execute_result"
    }
   ],
   "source": [
    "key_to_del = 'asdad'\n",
    "r.hdel(name, key_to_del)"
   ]
  },
  {
   "cell_type": "code",
   "execution_count": null,
   "id": "9a1ff84e-a792-428b-a756-6a67bae34be9",
   "metadata": {},
   "outputs": [],
   "source": []
  },
  {
   "cell_type": "code",
   "execution_count": null,
   "id": "0f770c34-4766-42c9-b01e-99d6e8268415",
   "metadata": {},
   "outputs": [],
   "source": []
  }
 ],
 "metadata": {
  "kernelspec": {
   "display_name": "Python 3 (ipykernel)",
   "language": "python",
   "name": "python3"
  },
  "language_info": {
   "codemirror_mode": {
    "name": "ipython",
    "version": 3
   },
   "file_extension": ".py",
   "mimetype": "text/x-python",
   "name": "python",
   "nbconvert_exporter": "python",
   "pygments_lexer": "ipython3",
   "version": "3.11.6"
  }
 },
 "nbformat": 4,
 "nbformat_minor": 5
}
